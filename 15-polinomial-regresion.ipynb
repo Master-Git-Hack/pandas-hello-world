{
 "cells": [
  {
   "cell_type": "code",
   "execution_count": 1,
   "metadata": {},
   "outputs": [],
   "source": [
    "%matplotlib inline\n",
    "%load_ext fireducks.pandas\n",
    "import matplotlib.pyplot as plt\n",
    "import pandas as pd\n",
    "import seaborn as sns\n",
    "from sklearn.linear_model import LinearRegression\n",
    "from sklearn.preprocessing import PolynomialFeatures"
   ]
  },
  {
   "cell_type": "code",
   "execution_count": 2,
   "metadata": {},
   "outputs": [
    {
     "data": {
      "text/html": [
       "<div>\n",
       "<style scoped>\n",
       "    .dataframe tbody tr th:only-of-type {\n",
       "        vertical-align: middle;\n",
       "    }\n",
       "\n",
       "    .dataframe tbody tr th {\n",
       "        vertical-align: top;\n",
       "    }\n",
       "\n",
       "    .dataframe thead th {\n",
       "        text-align: right;\n",
       "    }\n",
       "</style>\n",
       "<table border=\"1\" class=\"dataframe\">\n",
       "  <thead>\n",
       "    <tr style=\"text-align: right;\">\n",
       "      <th></th>\n",
       "      <th>day</th>\n",
       "      <th>views</th>\n",
       "      <th>redViews</th>\n",
       "      <th>comments</th>\n",
       "      <th>likes</th>\n",
       "      <th>dislikes</th>\n",
       "      <th>videosAddedToPlaylists</th>\n",
       "      <th>videosRemovedFromPlaylists</th>\n",
       "      <th>shares</th>\n",
       "      <th>estimatedMinutesWatched</th>\n",
       "      <th>...</th>\n",
       "      <th>subscribersGained</th>\n",
       "      <th>subscribersLost</th>\n",
       "      <th>estimatedRevenue</th>\n",
       "      <th>estimatedAdRevenue</th>\n",
       "      <th>grossRevenue</th>\n",
       "      <th>estimatedRedPartnerRevenue</th>\n",
       "      <th>monetizedPlaybacks</th>\n",
       "      <th>playbackBasedCpm</th>\n",
       "      <th>adImpressions</th>\n",
       "      <th>cpm</th>\n",
       "    </tr>\n",
       "  </thead>\n",
       "  <tbody>\n",
       "    <tr>\n",
       "      <th>0</th>\n",
       "      <td>2020-10-12</td>\n",
       "      <td>1204</td>\n",
       "      <td>52</td>\n",
       "      <td>4</td>\n",
       "      <td>23</td>\n",
       "      <td>2</td>\n",
       "      <td>12</td>\n",
       "      <td>1</td>\n",
       "      <td>1</td>\n",
       "      <td>2170</td>\n",
       "      <td>...</td>\n",
       "      <td>6</td>\n",
       "      <td>1</td>\n",
       "      <td>0.613</td>\n",
       "      <td>0.589</td>\n",
       "      <td>1.071</td>\n",
       "      <td>0.023</td>\n",
       "      <td>127</td>\n",
       "      <td>8.433</td>\n",
       "      <td>141</td>\n",
       "      <td>7.596</td>\n",
       "    </tr>\n",
       "    <tr>\n",
       "      <th>1</th>\n",
       "      <td>2020-10-13</td>\n",
       "      <td>1139</td>\n",
       "      <td>88</td>\n",
       "      <td>6</td>\n",
       "      <td>21</td>\n",
       "      <td>0</td>\n",
       "      <td>10</td>\n",
       "      <td>4</td>\n",
       "      <td>2</td>\n",
       "      <td>2450</td>\n",
       "      <td>...</td>\n",
       "      <td>10</td>\n",
       "      <td>1</td>\n",
       "      <td>1.650</td>\n",
       "      <td>1.585</td>\n",
       "      <td>2.881</td>\n",
       "      <td>0.065</td>\n",
       "      <td>447</td>\n",
       "      <td>6.445</td>\n",
       "      <td>502</td>\n",
       "      <td>5.739</td>\n",
       "    </tr>\n",
       "    <tr>\n",
       "      <th>2</th>\n",
       "      <td>2020-10-14</td>\n",
       "      <td>1276</td>\n",
       "      <td>64</td>\n",
       "      <td>5</td>\n",
       "      <td>38</td>\n",
       "      <td>2</td>\n",
       "      <td>14</td>\n",
       "      <td>5</td>\n",
       "      <td>2</td>\n",
       "      <td>2655</td>\n",
       "      <td>...</td>\n",
       "      <td>6</td>\n",
       "      <td>1</td>\n",
       "      <td>1.399</td>\n",
       "      <td>1.368</td>\n",
       "      <td>2.488</td>\n",
       "      <td>0.031</td>\n",
       "      <td>491</td>\n",
       "      <td>5.067</td>\n",
       "      <td>537</td>\n",
       "      <td>4.633</td>\n",
       "    </tr>\n",
       "    <tr>\n",
       "      <th>3</th>\n",
       "      <td>2020-10-15</td>\n",
       "      <td>1230</td>\n",
       "      <td>58</td>\n",
       "      <td>4</td>\n",
       "      <td>21</td>\n",
       "      <td>0</td>\n",
       "      <td>10</td>\n",
       "      <td>4</td>\n",
       "      <td>1</td>\n",
       "      <td>2495</td>\n",
       "      <td>...</td>\n",
       "      <td>11</td>\n",
       "      <td>1</td>\n",
       "      <td>1.554</td>\n",
       "      <td>1.507</td>\n",
       "      <td>2.739</td>\n",
       "      <td>0.047</td>\n",
       "      <td>498</td>\n",
       "      <td>5.500</td>\n",
       "      <td>565</td>\n",
       "      <td>4.848</td>\n",
       "    </tr>\n",
       "    <tr>\n",
       "      <th>4</th>\n",
       "      <td>2020-10-16</td>\n",
       "      <td>1274</td>\n",
       "      <td>50</td>\n",
       "      <td>6</td>\n",
       "      <td>29</td>\n",
       "      <td>0</td>\n",
       "      <td>13</td>\n",
       "      <td>7</td>\n",
       "      <td>2</td>\n",
       "      <td>2936</td>\n",
       "      <td>...</td>\n",
       "      <td>9</td>\n",
       "      <td>1</td>\n",
       "      <td>1.482</td>\n",
       "      <td>1.440</td>\n",
       "      <td>2.618</td>\n",
       "      <td>0.042</td>\n",
       "      <td>460</td>\n",
       "      <td>5.691</td>\n",
       "      <td>508</td>\n",
       "      <td>5.154</td>\n",
       "    </tr>\n",
       "  </tbody>\n",
       "</table>\n",
       "<p>5 rows × 36 columns</p>\n",
       "</div>"
      ]
     },
     "metadata": {},
     "output_type": "display_data"
    }
   ],
   "source": [
    "df = pd.read_csv(\"./datasets/while-partnered.csv\", index_col=0)\n",
    "df[\"day\"] = pd.to_datetime(df[\"day\"], format=\"%Y-%m-%d\")\n",
    "df.head()"
   ]
  },
  {
   "cell_type": "code",
   "execution_count": 5,
   "metadata": {},
   "outputs": [],
   "source": [
    "def polynomial_regresion(data,degree):\n",
    "    x =data[:,0].reshape(-1,1)\n",
    "    y =data[:,1]\n",
    "    features = PolynomialFeatures(degree=degree)\n",
    "    x_poly = features.fit_transform(x)\n",
    "    regr = LinearRegression()\n",
    "    regr.fit(x_poly,y)\n",
    "    return regr.predict(x_poly)\n"
   ]
  },
  {
   "cell_type": "code",
   "execution_count": 8,
   "metadata": {},
   "outputs": [
    {
     "name": "stderr",
     "output_type": "stream",
     "text": [
      "/home/master/.virtualenvs/Pandas-Carberra-nubz/lib/python3.12/site-packages/fireducks/pandas/generic.py:775: UserWarning: df2 = df1.copy(deep=False) might not work, when changes made in the data values of 'df2' is expected to be reflected in 'df1'. REF: https://fireducks-dev.github.io/docs/user-guide/04-compatibility/#copydeep--false\n",
      "  warnings.warn(\n",
      "/home/master/.virtualenvs/Pandas-Carberra-nubz/lib/python3.12/site-packages/fireducks/pandas/generic.py:775: UserWarning: df2 = df1.copy(deep=False) might not work, when changes made in the data values of 'df2' is expected to be reflected in 'df1'. REF: https://fireducks-dev.github.io/docs/user-guide/04-compatibility/#copydeep--false\n",
      "  warnings.warn(\n",
      "/tmp/ipykernel_488084/1027872204.py:7: UserWarning: FigureCanvasAgg is non-interactive, and thus cannot be shown\n",
      "  fig.show()\n"
     ]
    },
    {
     "data": {
      "image/png": "[encoded data removed]",
      "text/plain": [
       "<Figure size 640x480 with 1 Axes>"
      ]
     },
     "metadata": {},
     "output_type": "display_data"
    }
   ],
   "source": [
    "data = df[[\"views\",\"cpm\"]].values\n",
    "pred = polynomial_regresion(data, 1)\n",
    "#degree is the degree of the polynomial regression, the smoothness of the curve\n",
    "fig = plt.figure()\n",
    "sns.scatterplot(data=df, x=\"views\", y=\"cpm\")\n",
    "sns.lineplot(x=df[\"views\"], y=pred, color=\"red\",lw=3)\n",
    "fig.show()"
   ]
  },
  {
   "cell_type": "code",
   "execution_count": 9,
   "metadata": {},
   "outputs": [],
   "source": [
    "import numpy as np"
   ]
  },
  {
   "cell_type": "code",
   "execution_count": 28,
   "metadata": {},
   "outputs": [],
   "source": [
    "def polynomial_regression2(x, y, degree):\n",
    "    \"\"\"Calculate the polynomial regression of degree degrees between x and y.\"\"\"\n",
    "    \n",
    "    X = np.ones(x.shape)\n",
    "    X = np.column_stack((X, *(x ** (i + 1) for i in range(degree))))\n",
    "    return X.dot(np.linalg.solve((XX := X.transpose()).dot(X), XX.dot(y)))"
   ]
  },
  {
   "cell_type": "code",
   "execution_count": 30,
   "metadata": {},
   "outputs": [
    {
     "data": {
      "text/plain": [
       "array([8.02851771, 7.83722067, 8.20349117, 8.09739476, 8.19936588,\n",
       "       8.02299922, 7.94296162, 7.55548143, 7.60203977, 8.27657869,\n",
       "       8.03126599, 7.91627868, 8.28387075, 8.09992894, 7.92521787,\n",
       "       7.91029552, 8.05833092, 8.07180863, 8.30417441, 8.32205404,\n",
       "       7.98848654, 8.33310609, 8.28528372, 8.08458912, 8.16241384,\n",
       "       8.12231725, 8.3337553 , 8.26251992, 8.31838968, 8.25589694,\n",
       "       8.09439081, 8.10997359, 8.34066159, 8.12475703, 8.18238929,\n",
       "       7.84954387, 8.15093241, 7.83722067, 8.18845191, 8.06364924,\n",
       "       8.27507531, 8.12475703, 7.870982  , 8.21159538, 8.1909716 ,\n",
       "       7.94590067, 7.94590067, 8.23005616, 7.79686358, 8.20143457,\n",
       "       7.78749451, 7.95176256, 8.10997359, 8.24730308, 8.33757555,\n",
       "       7.78436759, 8.13441736, 7.97785999, 7.59580043, 7.79374257,\n",
       "       7.87403027, 8.25078218, 8.04759801, 8.07418693, 8.19519251,\n",
       "       7.7278337 , 8.30003114, 7.97785999, 8.34173822, 8.17362325,\n",
       "       8.13680742, 8.18455226, 8.33028253, 7.42083156, 7.5096099 ,\n",
       "       7.9864513 , 8.3046046 , 8.34149858, 8.23469838, 8.13441736,\n",
       "       7.79374257, 7.88618489, 7.96631948, 8.02299922, 8.32292668,\n",
       "       8.24904951, 8.15325006, 8.25250102, 8.14860422, 8.16241384,\n",
       "       8.13201723, 8.33438198, 8.25923676, 8.29262984, 7.73529927,\n",
       "       8.20553562, 8.31546081, 8.28387075, 8.33557472, 8.29980178,\n",
       "       8.15325006, 8.34305339, 8.03946619, 8.30576471, 7.95632898,\n",
       "       8.32702587, 8.28291985, 8.33028253, 8.29603102, 8.32951963,\n",
       "       8.29343789, 8.25459951, 8.33846232, 8.31414803, 8.30003114,\n",
       "       8.3193317 , 8.21557322, 8.27202412, 8.12475703, 8.34195807,\n",
       "       8.23707275, 8.34173822, 8.34305339, 8.28121272, 8.32702587,\n",
       "       8.30102671, 8.33661284, 8.0502931 , 8.17099743, 6.73134073,\n",
       "       8.32353329, 8.31342324, 7.84338849, 8.34215807, 8.24730308,\n",
       "       8.34293728, 8.3429964 , 8.34173822, 8.21359054, 8.09992894,\n",
       "       8.32378181, 8.06403682, 8.34283548, 8.34272959, 7.95468526,\n",
       "       8.10747637, 7.99214732, 7.85875245, 8.33265303, 7.62707364,\n",
       "       8.22720327, 8.33767254, 8.04489511, 7.74042823, 7.97210172,\n",
       "       8.16467775, 8.21528607, 8.02299922, 8.06099415, 8.2575739 ,\n",
       "       8.03126599, 8.07418693, 8.11986774, 8.17583175, 8.27954068,\n",
       "       8.18561396, 7.9864513 , 7.98072998, 8.10747637, 8.30803573,\n",
       "       8.18238929])"
      ]
     },
     "execution_count": 30,
     "metadata": {},
     "output_type": "execute_result"
    }
   ],
   "source": [
    "data = df[[\"views\",\"cpm\"]].values\n",
    "x =data[:,0].reshape(-1,1)\n",
    "y =data[:,1]\n",
    "pred = polynomial_regression2(x,y, 3)\n",
    "pred"
   ]
  },
  {
   "cell_type": "code",
   "execution_count": 32,
   "metadata": {},
   "outputs": [
    {
     "name": "stderr",
     "output_type": "stream",
     "text": [
      "/home/master/.virtualenvs/Pandas-Carberra-nubz/lib/python3.12/site-packages/fireducks/pandas/generic.py:775: UserWarning: df2 = df1.copy(deep=False) might not work, when changes made in the data values of 'df2' is expected to be reflected in 'df1'. REF: https://fireducks-dev.github.io/docs/user-guide/04-compatibility/#copydeep--false\n",
      "  warnings.warn(\n",
      "/home/master/.virtualenvs/Pandas-Carberra-nubz/lib/python3.12/site-packages/fireducks/pandas/generic.py:775: UserWarning: df2 = df1.copy(deep=False) might not work, when changes made in the data values of 'df2' is expected to be reflected in 'df1'. REF: https://fireducks-dev.github.io/docs/user-guide/04-compatibility/#copydeep--false\n",
      "  warnings.warn(\n",
      "/tmp/ipykernel_488084/310026786.py:4: UserWarning: FigureCanvasAgg is non-interactive, and thus cannot be shown\n",
      "  fig.show()\n"
     ]
    },
    {
     "data": {
      "image/png": "[encoded data removed]",
      "text/plain": [
       "<Figure size 640x480 with 1 Axes>"
      ]
     },
     "metadata": {},
     "output_type": "display_data"
    }
   ],
   "source": [
    "fig = plt.figure()\n",
    "sns.scatterplot(data=df, x=\"views\", y=\"cpm\")\n",
    "sns.scatterplot(x=df[\"views\"], y=pred, color=\"red\",)\n",
    "fig.show()"
   ]
  }
 ],
 "metadata": {
  "kernelspec": {
   "display_name": "Pandas-Carberra-nubz",
   "language": "python",
   "name": "python3"
  },
  "language_info": {
   "codemirror_mode": {
    "name": "ipython",
    "version": 3
   },
   "file_extension": ".py",
   "mimetype": "text/x-python",
   "name": "python",
   "nbconvert_exporter": "python",
   "pygments_lexer": "ipython3",
   "version": "3.12.6"
  }
 },
 "nbformat": 4,
 "nbformat_minor": 2
}
